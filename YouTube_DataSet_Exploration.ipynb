{
 "cells": [
  {
   "cell_type": "code",
   "execution_count": 1,
   "metadata": {
    "collapsed": true
   },
   "outputs": [],
   "source": [
    "import pandas as pd\n",
    "import glob\n",
    "import numpy as np\n",
    "import matplotlib.pyplot as plt\n",
    "% matplotlib inline"
   ]
  },
  {
   "cell_type": "code",
   "execution_count": 2,
   "metadata": {
    "collapsed": true
   },
   "outputs": [],
   "source": [
    "path = r'YoutubeData/' # use your path\n",
    "allFiles = glob.glob(path + \"/*.csv\")\n",
    "\n",
    "frame = pd.DataFrame()\n",
    "\n",
    "list_ = []\n",
    "\n",
    "for file_ in allFiles:\n",
    "    df = pd.read_csv(file_,index_col=None, header=0)\n",
    "    list_.append(df)\n",
    "frame = pd.concat(list_)"
   ]
  },
  {
   "cell_type": "code",
   "execution_count": 3,
   "metadata": {},
   "outputs": [
    {
     "data": {
      "text/html": [
       "<div>\n",
       "<style>\n",
       "    .dataframe thead tr:only-child th {\n",
       "        text-align: right;\n",
       "    }\n",
       "\n",
       "    .dataframe thead th {\n",
       "        text-align: left;\n",
       "    }\n",
       "\n",
       "    .dataframe tbody tr th {\n",
       "        vertical-align: top;\n",
       "    }\n",
       "</style>\n",
       "<table border=\"1\" class=\"dataframe\">\n",
       "  <thead>\n",
       "    <tr style=\"text-align: right;\">\n",
       "      <th></th>\n",
       "      <th>COMMENT_ID</th>\n",
       "      <th>AUTHOR</th>\n",
       "      <th>DATE</th>\n",
       "      <th>CONTENT</th>\n",
       "      <th>CLASS</th>\n",
       "    </tr>\n",
       "  </thead>\n",
       "  <tbody>\n",
       "    <tr>\n",
       "      <th>0</th>\n",
       "      <td>LZQPQhLyRh80UYxNuaDWhIGQYNQ96IuCg-AYWqNPjpU</td>\n",
       "      <td>Julius NM</td>\n",
       "      <td>2013-11-07T06:20:48</td>\n",
       "      <td>Huh, anyway check out this you[tube] channel: ...</td>\n",
       "      <td>1</td>\n",
       "    </tr>\n",
       "    <tr>\n",
       "      <th>1</th>\n",
       "      <td>LZQPQhLyRh_C2cTtd9MvFRJedxydaVW-2sNg5Diuo4A</td>\n",
       "      <td>adam riyati</td>\n",
       "      <td>2013-11-07T12:37:15</td>\n",
       "      <td>Hey guys check out my new channel and our firs...</td>\n",
       "      <td>1</td>\n",
       "    </tr>\n",
       "    <tr>\n",
       "      <th>2</th>\n",
       "      <td>LZQPQhLyRh9MSZYnf8djyk0gEF9BHDPYrrK-qCczIY8</td>\n",
       "      <td>Evgeny Murashkin</td>\n",
       "      <td>2013-11-08T17:34:21</td>\n",
       "      <td>just for test I have to say murdev.com</td>\n",
       "      <td>1</td>\n",
       "    </tr>\n",
       "    <tr>\n",
       "      <th>3</th>\n",
       "      <td>z13jhp0bxqncu512g22wvzkasxmvvzjaz04</td>\n",
       "      <td>ElNino Melendez</td>\n",
       "      <td>2013-11-09T08:28:43</td>\n",
       "      <td>me shaking my sexy ass on my channel enjoy ^_^ ﻿</td>\n",
       "      <td>1</td>\n",
       "    </tr>\n",
       "    <tr>\n",
       "      <th>4</th>\n",
       "      <td>z13fwbwp1oujthgqj04chlngpvzmtt3r3dw</td>\n",
       "      <td>GsMega</td>\n",
       "      <td>2013-11-10T16:05:38</td>\n",
       "      <td>watch?v=vtaRGgvGtWQ   Check this out .﻿</td>\n",
       "      <td>1</td>\n",
       "    </tr>\n",
       "  </tbody>\n",
       "</table>\n",
       "</div>"
      ],
      "text/plain": [
       "                                    COMMENT_ID            AUTHOR  \\\n",
       "0  LZQPQhLyRh80UYxNuaDWhIGQYNQ96IuCg-AYWqNPjpU         Julius NM   \n",
       "1  LZQPQhLyRh_C2cTtd9MvFRJedxydaVW-2sNg5Diuo4A       adam riyati   \n",
       "2  LZQPQhLyRh9MSZYnf8djyk0gEF9BHDPYrrK-qCczIY8  Evgeny Murashkin   \n",
       "3          z13jhp0bxqncu512g22wvzkasxmvvzjaz04   ElNino Melendez   \n",
       "4          z13fwbwp1oujthgqj04chlngpvzmtt3r3dw            GsMega   \n",
       "\n",
       "                  DATE                                            CONTENT  \\\n",
       "0  2013-11-07T06:20:48  Huh, anyway check out this you[tube] channel: ...   \n",
       "1  2013-11-07T12:37:15  Hey guys check out my new channel and our firs...   \n",
       "2  2013-11-08T17:34:21             just for test I have to say murdev.com   \n",
       "3  2013-11-09T08:28:43   me shaking my sexy ass on my channel enjoy ^_^ ﻿   \n",
       "4  2013-11-10T16:05:38            watch?v=vtaRGgvGtWQ   Check this out .﻿   \n",
       "\n",
       "   CLASS  \n",
       "0      1  \n",
       "1      1  \n",
       "2      1  \n",
       "3      1  \n",
       "4      1  "
      ]
     },
     "execution_count": 3,
     "metadata": {},
     "output_type": "execute_result"
    }
   ],
   "source": [
    "frame.head()"
   ]
  },
  {
   "cell_type": "code",
   "execution_count": 4,
   "metadata": {
    "collapsed": true
   },
   "outputs": [],
   "source": [
    "frame['Index'] = range(0, len(frame))\n",
    "frame = frame.set_index('Index')\n",
    "New = frame.copy()\n",
    "New = New.iloc[np.random.permutation(len(New))]\n",
    "New = New.reset_index()\n",
    "del New['Index']"
   ]
  },
  {
   "cell_type": "code",
   "execution_count": 5,
   "metadata": {},
   "outputs": [
    {
     "data": {
      "text/html": [
       "<div>\n",
       "<style>\n",
       "    .dataframe thead tr:only-child th {\n",
       "        text-align: right;\n",
       "    }\n",
       "\n",
       "    .dataframe thead th {\n",
       "        text-align: left;\n",
       "    }\n",
       "\n",
       "    .dataframe tbody tr th {\n",
       "        vertical-align: top;\n",
       "    }\n",
       "</style>\n",
       "<table border=\"1\" class=\"dataframe\">\n",
       "  <thead>\n",
       "    <tr style=\"text-align: right;\">\n",
       "      <th></th>\n",
       "      <th>COMMENT_ID</th>\n",
       "      <th>AUTHOR</th>\n",
       "      <th>DATE</th>\n",
       "      <th>CONTENT</th>\n",
       "      <th>CLASS</th>\n",
       "    </tr>\n",
       "  </thead>\n",
       "  <tbody>\n",
       "    <tr>\n",
       "      <th>0</th>\n",
       "      <td>_2viQ_Qnc69vjtRxop92H6OWpxKYZu4Mokxff2OzDKE</td>\n",
       "      <td>TheBoss</td>\n",
       "      <td>2013-09-06T23:42:08.961000</td>\n",
       "      <td>This Song will never get old</td>\n",
       "      <td>0</td>\n",
       "    </tr>\n",
       "    <tr>\n",
       "      <th>1</th>\n",
       "      <td>_2viQ_Qnc68mfmp-D4hvnrhJa3Z4I1G4FbP0hvk2rA4</td>\n",
       "      <td>5000palo</td>\n",
       "      <td>2013-09-07T13:36:28.059000</td>\n",
       "      <td>Shakira :-*</td>\n",
       "      <td>0</td>\n",
       "    </tr>\n",
       "    <tr>\n",
       "      <th>2</th>\n",
       "      <td>LneaDw26bFvAsBvYZLuVc3cJCI65rJQ9A-wZAcukfp0</td>\n",
       "      <td>101Tele</td>\n",
       "      <td>NaN</td>\n",
       "      <td>yo I know nobody will probably even read this....</td>\n",
       "      <td>1</td>\n",
       "    </tr>\n",
       "    <tr>\n",
       "      <th>3</th>\n",
       "      <td>z12cvnpwzrmncblfm230ejjwpzvetrgl5</td>\n",
       "      <td>ROBLOX Gaming</td>\n",
       "      <td>2015-05-16T01:54:31.334000</td>\n",
       "      <td>:3﻿</td>\n",
       "      <td>0</td>\n",
       "    </tr>\n",
       "    <tr>\n",
       "      <th>4</th>\n",
       "      <td>z12gvlyixpjfwrpme23rxfubjvzkvp42s</td>\n",
       "      <td>Toan732</td>\n",
       "      <td>2014-10-31T02:49:34.017000</td>\n",
       "      <td>Ummm... I just hit 1k subscribers. I make Mine...</td>\n",
       "      <td>1</td>\n",
       "    </tr>\n",
       "  </tbody>\n",
       "</table>\n",
       "</div>"
      ],
      "text/plain": [
       "                                    COMMENT_ID         AUTHOR  \\\n",
       "0  _2viQ_Qnc69vjtRxop92H6OWpxKYZu4Mokxff2OzDKE        TheBoss   \n",
       "1  _2viQ_Qnc68mfmp-D4hvnrhJa3Z4I1G4FbP0hvk2rA4       5000palo   \n",
       "2  LneaDw26bFvAsBvYZLuVc3cJCI65rJQ9A-wZAcukfp0        101Tele   \n",
       "3            z12cvnpwzrmncblfm230ejjwpzvetrgl5  ROBLOX Gaming   \n",
       "4            z12gvlyixpjfwrpme23rxfubjvzkvp42s        Toan732   \n",
       "\n",
       "                         DATE  \\\n",
       "0  2013-09-06T23:42:08.961000   \n",
       "1  2013-09-07T13:36:28.059000   \n",
       "2                         NaN   \n",
       "3  2015-05-16T01:54:31.334000   \n",
       "4  2014-10-31T02:49:34.017000   \n",
       "\n",
       "                                             CONTENT  CLASS  \n",
       "0                       This Song will never get old      0  \n",
       "1                                        Shakira :-*      0  \n",
       "2  yo I know nobody will probably even read this....      1  \n",
       "3                                                :3﻿      0  \n",
       "4  Ummm... I just hit 1k subscribers. I make Mine...      1  "
      ]
     },
     "execution_count": 5,
     "metadata": {},
     "output_type": "execute_result"
    }
   ],
   "source": [
    "New.head()"
   ]
  },
  {
   "cell_type": "markdown",
   "metadata": {},
   "source": [
    "### The above is a dataframe of shuffled tuples from all five channels on YouTube.\n",
    "\n",
    "### To save the last 300 tuples for a test set :"
   ]
  },
  {
   "cell_type": "code",
   "execution_count": 6,
   "metadata": {
    "collapsed": true
   },
   "outputs": [],
   "source": [
    "Training_Set = pd.DataFrame(New[0:1656])  # Required slice to calculate conditional probabilities\n",
    "Test_Set = pd.DataFrame(New[1656:])"
   ]
  },
  {
   "cell_type": "markdown",
   "metadata": {},
   "source": [
    "### Required Functions"
   ]
  },
  {
   "cell_type": "markdown",
   "metadata": {},
   "source": [
    "Search for a particular feature (string) in comments"
   ]
  },
  {
   "cell_type": "code",
   "execution_count": 7,
   "metadata": {
    "collapsed": true
   },
   "outputs": [],
   "source": [
    "def feature_search( my_string) :\n",
    "    word = Training_Set['CONTENT'].apply(lambda x: my_string in x.lower())           # Boolean series\n",
    "    return word"
   ]
  },
  {
   "cell_type": "markdown",
   "metadata": {},
   "source": [
    "Conditional probabilities:"
   ]
  },
  {
   "cell_type": "code",
   "execution_count": 8,
   "metadata": {
    "collapsed": true
   },
   "outputs": [],
   "source": [
    "def conditional_probabilities( s1, s2, my_string) :              # s1 = word ( a series)\n",
    "    l = len(Training_Set)\n",
    "    \n",
    "    seri = (s1 == True) & (s2 == True) \n",
    "    iC_iSP = sum(seri)/l\n",
    "   \n",
    "    seri = (s1 == True) & (s2 == False) \n",
    "    iC_nSP = sum(seri)/l\n",
    "    \n",
    "    seri = (s1 == False) & (s2 == True) \n",
    "    nC_iSP = sum(seri)/l\n",
    "\n",
    "    seri = (s1 == False) & (s2 == False) \n",
    "    nC_nSP = sum(seri)/l\n",
    "    \n",
    "    # display probability table\n",
    "    \n",
    "    d = {'is_%s' %my_string : [iC_iSP, iC_nSP], 'not_%s' %my_string : [nC_iSP, nC_nSP]}\n",
    "    df = pd.DataFrame(d)\n",
    "    df['~'] = ['is_spam', 'not_spam']\n",
    "    df = df.set_index('~')\n",
    "    print(df)\n",
    "    \n",
    "    return iC_iSP, iC_nSP, nC_iSP, nC_nSP"
   ]
  },
  {
   "cell_type": "code",
   "execution_count": 9,
   "metadata": {
    "collapsed": true
   },
   "outputs": [],
   "source": [
    "spam = Training_Set.CLASS.apply(lambda x : x == 1)                                   # Boolean series"
   ]
  },
  {
   "cell_type": "markdown",
   "metadata": {},
   "source": [
    "### A bernoulli distrubution for a comment containing feature word 'channel' classified as spam"
   ]
  },
  {
   "cell_type": "code",
   "execution_count": 10,
   "metadata": {
    "collapsed": true
   },
   "outputs": [],
   "source": [
    "Bool = feature_search( 'channel' )"
   ]
  },
  {
   "cell_type": "code",
   "execution_count": 11,
   "metadata": {},
   "outputs": [
    {
     "name": "stdout",
     "output_type": "stream",
     "text": [
      "          is_channel  not_channel\n",
      "~                                \n",
      "is_spam     0.092391     0.422705\n",
      "not_spam    0.001208     0.483696\n"
     ]
    }
   ],
   "source": [
    "iC_iSP, iC_nSP, nC_iSP, nC_nSP = conditional_probabilities(Bool, spam, 'channel')"
   ]
  },
  {
   "cell_type": "code",
   "execution_count": 12,
   "metadata": {
    "collapsed": true,
    "scrolled": true
   },
   "outputs": [],
   "source": [
    "#iC_iSP + iC_nSP + nC_iSP + nC_nSP"
   ]
  },
  {
   "cell_type": "code",
   "execution_count": 13,
   "metadata": {
    "collapsed": true
   },
   "outputs": [],
   "source": [
    "x = [0, 1]\n",
    "y = [1 - iC_iSP, iC_iSP]"
   ]
  },
  {
   "cell_type": "code",
   "execution_count": 14,
   "metadata": {},
   "outputs": [
    {
     "data": {
      "text/plain": [
       "<matplotlib.legend.Legend at 0x7fa8a9f642e8>"
      ]
     },
     "execution_count": 14,
     "metadata": {},
     "output_type": "execute_result"
    },
    {
     "data": {
      "image/png": "[encoded data removed]",
      "text/plain": [
       "<matplotlib.figure.Figure at 0x7fa8a150eac8>"
      ]
     },
     "metadata": {},
     "output_type": "display_data"
    }
   ],
   "source": [
    "plt.bar(x, y)\n",
    "plt.xticks(np.arange(2))\n",
    "plt.xlabel('Bernoulli distribution')\n",
    "plt.ylabel('Probability')\n",
    "plt.subplot().set_xticklabels(('1 - p', 'p'))\n",
    "plt.legend(['p = %f' %iC_iSP])"
   ]
  },
  {
   "cell_type": "markdown",
   "metadata": {
    "collapsed": true
   },
   "source": [
    "### A bernoulli distrubution for a comment containing feature word 'check'"
   ]
  },
  {
   "cell_type": "code",
   "execution_count": 15,
   "metadata": {
    "collapsed": true
   },
   "outputs": [],
   "source": [
    "Bool = feature_search( 'check' )"
   ]
  },
  {
   "cell_type": "code",
   "execution_count": 16,
   "metadata": {},
   "outputs": [
    {
     "name": "stdout",
     "output_type": "stream",
     "text": [
      "          is_check  not_check\n",
      "~                            \n",
      "is_spam   0.236111   0.278986\n",
      "not_spam  0.009662   0.475242\n"
     ]
    }
   ],
   "source": [
    "iC_iSP, iC_nSP, nC_iSP, nC_nSP = conditional_probabilities(Bool, spam, 'check')"
   ]
  },
  {
   "cell_type": "code",
   "execution_count": 17,
   "metadata": {
    "collapsed": true
   },
   "outputs": [],
   "source": [
    "#iC_iSP + iC_nSP + nC_iSP + nC_nSP"
   ]
  },
  {
   "cell_type": "code",
   "execution_count": 18,
   "metadata": {
    "collapsed": true
   },
   "outputs": [],
   "source": [
    "x = [0, 1]\n",
    "y = [1 - iC_iSP, iC_iSP]"
   ]
  },
  {
   "cell_type": "code",
   "execution_count": 19,
   "metadata": {},
   "outputs": [
    {
     "data": {
      "text/plain": [
       "<matplotlib.legend.Legend at 0x7fa876e3f128>"
      ]
     },
     "execution_count": 19,
     "metadata": {},
     "output_type": "execute_result"
    },
    {
     "data": {
      "image/png": "[encoded data removed]",
      "text/plain": [
       "<matplotlib.figure.Figure at 0x7fa876ebb400>"
      ]
     },
     "metadata": {},
     "output_type": "display_data"
    }
   ],
   "source": [
    "plt.bar(x, y)\n",
    "plt.xticks(np.arange(2))\n",
    "plt.xlabel('Bernoulli distribution')\n",
    "plt.ylabel('Probability')\n",
    "plt.subplot().set_xticklabels(('1 - p', 'p'))\n",
    "plt.legend(['p = %f' %iC_iSP])"
   ]
  },
  {
   "cell_type": "markdown",
   "metadata": {},
   "source": [
    "### A bernoulli distrubution for a comment containing feature word 'click'"
   ]
  },
  {
   "cell_type": "code",
   "execution_count": 20,
   "metadata": {
    "collapsed": true
   },
   "outputs": [],
   "source": [
    "Bool = feature_search( 'click' )"
   ]
  },
  {
   "cell_type": "code",
   "execution_count": 21,
   "metadata": {},
   "outputs": [
    {
     "name": "stdout",
     "output_type": "stream",
     "text": [
      "          is_click  not_click\n",
      "~                            \n",
      "is_spam   0.011473   0.503623\n",
      "not_spam  0.000604   0.484300\n"
     ]
    }
   ],
   "source": [
    "iC_iSP, iC_nSP, nC_iSP, nC_nSP = conditional_probabilities(Bool, spam, 'click')"
   ]
  },
  {
   "cell_type": "code",
   "execution_count": 22,
   "metadata": {
    "collapsed": true
   },
   "outputs": [],
   "source": [
    "#iC_iSP + iC_nSP + nC_iSP + nC_nSP"
   ]
  },
  {
   "cell_type": "code",
   "execution_count": 23,
   "metadata": {
    "collapsed": true
   },
   "outputs": [],
   "source": [
    "x = [0, 1]\n",
    "y = [1 - iC_iSP, iC_iSP]"
   ]
  },
  {
   "cell_type": "code",
   "execution_count": 24,
   "metadata": {},
   "outputs": [
    {
     "data": {
      "text/plain": [
       "<matplotlib.legend.Legend at 0x7fa876dd4eb8>"
      ]
     },
     "execution_count": 24,
     "metadata": {},
     "output_type": "execute_result"
    },
    {
     "data": {
      "image/png": "[encoded data removed]",
      "text/plain": [
       "<matplotlib.figure.Figure at 0x7fa876ebb4a8>"
      ]
     },
     "metadata": {},
     "output_type": "display_data"
    }
   ],
   "source": [
    "plt.bar(x, y)\n",
    "plt.xticks(np.arange(2))\n",
    "plt.xlabel('Bernoulli distribution')\n",
    "plt.ylabel('Probability')\n",
    "plt.subplot().set_xticklabels(('1 - p', 'p'))\n",
    "plt.legend(['p = %f' %iC_iSP])"
   ]
  },
  {
   "cell_type": "markdown",
   "metadata": {},
   "source": [
    "### A bernoulli distrubution for a comment containing feature URL (%.com)"
   ]
  },
  {
   "cell_type": "markdown",
   "metadata": {},
   "source": [
    "To check for websotes in comments"
   ]
  },
  {
   "cell_type": "code",
   "execution_count": 25,
   "metadata": {
    "collapsed": true
   },
   "outputs": [],
   "source": [
    "Bool = feature_search( '.com' )"
   ]
  },
  {
   "cell_type": "code",
   "execution_count": 26,
   "metadata": {},
   "outputs": [
    {
     "name": "stdout",
     "output_type": "stream",
     "text": [
      "           is_.com  not_.com\n",
      "~                           \n",
      "is_spam   0.096618  0.418478\n",
      "not_spam  0.002415  0.482488\n"
     ]
    }
   ],
   "source": [
    "iC_iSP, iC_nSP, nC_iSP, nC_nSP = conditional_probabilities(Bool, spam, '.com')"
   ]
  },
  {
   "cell_type": "code",
   "execution_count": 27,
   "metadata": {
    "collapsed": true
   },
   "outputs": [],
   "source": [
    "#iC_iSP + iC_nSP + nC_iSP + nC_nSP"
   ]
  },
  {
   "cell_type": "code",
   "execution_count": 28,
   "metadata": {
    "collapsed": true
   },
   "outputs": [],
   "source": [
    "x = [0, 1]\n",
    "y = [1 - iC_iSP, iC_iSP]"
   ]
  },
  {
   "cell_type": "code",
   "execution_count": 29,
   "metadata": {},
   "outputs": [
    {
     "data": {
      "text/plain": [
       "<matplotlib.legend.Legend at 0x7fa876cf9128>"
      ]
     },
     "execution_count": 29,
     "metadata": {},
     "output_type": "execute_result"
    },
    {
     "data": {
      "image/png": "[encoded data removed]",
      "text/plain": [
       "<matplotlib.figure.Figure at 0x7fa876dff438>"
      ]
     },
     "metadata": {},
     "output_type": "display_data"
    }
   ],
   "source": [
    "plt.bar(x, y)\n",
    "plt.xticks(np.arange(2))\n",
    "plt.xlabel('Bernoulli distribution')\n",
    "plt.ylabel('Probability')\n",
    "plt.subplot().set_xticklabels(('1 - p', 'p'))\n",
    "plt.legend(['p = %f' %iC_iSP])"
   ]
  },
  {
   "cell_type": "markdown",
   "metadata": {},
   "source": [
    "# etc."
   ]
  },
  {
   "cell_type": "code",
   "execution_count": null,
   "metadata": {
    "collapsed": true
   },
   "outputs": [],
   "source": []
  },
  {
   "cell_type": "code",
   "execution_count": null,
   "metadata": {
    "collapsed": true
   },
   "outputs": [],
   "source": []
  }
 ],
 "metadata": {
  "kernelspec": {
   "display_name": "Python 3",
   "language": "python",
   "name": "python3"
  },
  "language_info": {
   "codemirror_mode": {
    "name": "ipython",
    "version": 3
   },
   "file_extension": ".py",
   "mimetype": "text/x-python",
   "name": "python",
   "nbconvert_exporter": "python",
   "pygments_lexer": "ipython3",
   "version": "3.6.2"
  }
 },
 "nbformat": 4,
 "nbformat_minor": 2
}
